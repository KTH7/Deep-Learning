{
 "cells": [
  {
   "cell_type": "markdown",
   "metadata": {},
   "source": [
    "이미지 인식을 위한 CNN\n",
    "===\n",
    "* MNIST 데이터를 통해 CNN의 이미지 인식 연습\n",
    "    * MNIST 데이터셋은 70,000개의 글자 이미지에 각각 0부터 9까지 이름표를 붙인 데이터셋\n",
    "## 1. 데이터 전처리"
   ]
  },
  {
   "cell_type": "code",
   "execution_count": 23,
   "metadata": {},
   "outputs": [],
   "source": [
    "import tensorflow as tf\n",
    "from tensorflow.keras.datasets.mnist import load_data"
   ]
  },
  {
   "cell_type": "code",
   "execution_count": 24,
   "metadata": {},
   "outputs": [],
   "source": [
    "data=load_data()#튜플\n",
    "data_1,data_2=load_data()"
   ]
  },
  {
   "cell_type": "code",
   "execution_count": 25,
   "metadata": {},
   "outputs": [
    {
     "data": {
      "text/plain": [
       "(10000, 28, 28)"
      ]
     },
     "execution_count": 25,
     "metadata": {},
     "output_type": "execute_result"
    }
   ],
   "source": [
    "(X_train,y_train),(X_test,y_test)=load_data()\n",
    "X_test.shape"
   ]
  },
  {
   "cell_type": "code",
   "execution_count": 26,
   "metadata": {},
   "outputs": [
    {
     "data": {
      "text/plain": [
       "(28, 28)"
      ]
     },
     "execution_count": 26,
     "metadata": {},
     "output_type": "execute_result"
    }
   ],
   "source": [
    "X_train[0].shape"
   ]
  },
  {
   "cell_type": "code",
   "execution_count": 27,
   "metadata": {},
   "outputs": [
    {
     "data": {
      "text/plain": [
       "array([5, 0, 4, ..., 5, 6, 8], dtype=uint8)"
      ]
     },
     "execution_count": 27,
     "metadata": {},
     "output_type": "execute_result"
    }
   ],
   "source": [
    "y_train"
   ]
  },
  {
   "cell_type": "code",
   "execution_count": 28,
   "metadata": {},
   "outputs": [],
   "source": [
    "import numpy as np\n",
    "def img_show(img):\n",
    "    pil_img=image.fromarray(np.uint8(img))\n",
    "    pil_img.show()"
   ]
  },
  {
   "cell_type": "markdown",
   "metadata": {},
   "source": [
    "* matplotlib을 통한 시각적 확인.\n",
    "    * $28\\times28$ 픽셀, 0~255 까지 밝기 등급으로 표현.\n",
    "    * 행렬로 이루어진 하나의 집합으로 변환됨."
   ]
  },
  {
   "cell_type": "code",
   "execution_count": 29,
   "metadata": {},
   "outputs": [
    {
     "data": {
      "image/png": "[encoded data removed]",
      "text/plain": [
       "<Figure size 432x288 with 1 Axes>"
      ]
     },
     "metadata": {
      "needs_background": "light"
     },
     "output_type": "display_data"
    }
   ],
   "source": [
    "import matplotlib.pyplot as plt\n",
    "plt.imshow(X_train[0],cmap='Greys')\n",
    "plt.show()"
   ]
  },
  {
   "cell_type": "markdown",
   "metadata": {},
   "source": [
    "* 주어진 가로 28, 세로 28의 2차원 배열을 784개의 1차원 배열로 바꿔 줌.\n",
    "* 이를 위해 reshape() 함수를 사용.\n",
    "* keras는 데이터를 0에서 1사이의 값으로 변환한 다음 구동할 때 최적의 성능을 보임.\n",
    "    * 따라서 현재 0~255 사이의 값으로 이루어진 값을 0~1 사이의 값으로 바꿔야 함.\n",
    "* 데이터의 폭이 클 때 적절한 값으로 분산의 정도를 바꾸는 과정 : 데이터 정규화(normalization).\n",
    "    * 정규화를 위해 astype()를 이용해 실수형으로 바꾼 뒤 255로 나눠줌(min-max)."
   ]
  },
  {
   "cell_type": "code",
   "execution_count": 30,
   "metadata": {},
   "outputs": [
    {
     "name": "stdout",
     "output_type": "stream",
     "text": [
      "0\t0\t0\t0\t0\t0\t0\t0\t0\t0\t0\t0\t0\t0\t0\t0\t0\t0\t0\t0\t0\t0\t0\t0\t0\t0\t0\t0\t\n",
      "0\t0\t0\t0\t0\t0\t0\t0\t0\t0\t0\t0\t0\t0\t0\t0\t0\t0\t0\t0\t0\t0\t0\t0\t0\t0\t0\t0\t\n",
      "0\t0\t0\t0\t0\t0\t0\t0\t0\t0\t0\t0\t0\t0\t0\t0\t0\t0\t0\t0\t0\t0\t0\t0\t0\t0\t0\t0\t\n",
      "0\t0\t0\t0\t0\t0\t0\t0\t0\t0\t0\t0\t0\t0\t0\t0\t0\t0\t0\t0\t0\t0\t0\t0\t0\t0\t0\t0\t\n",
      "0\t0\t0\t0\t0\t0\t0\t0\t0\t0\t0\t0\t0\t0\t0\t0\t0\t0\t0\t0\t0\t0\t0\t0\t0\t0\t0\t0\t\n",
      "0\t0\t0\t0\t0\t0\t0\t0\t0\t0\t0\t0\t3\t18\t18\t18\t126\t136\t175\t26\t166\t255\t247\t127\t0\t0\t0\t0\t\n",
      "0\t0\t0\t0\t0\t0\t0\t0\t30\t36\t94\t154\t170\t253\t253\t253\t253\t253\t225\t172\t253\t242\t195\t64\t0\t0\t0\t0\t\n",
      "0\t0\t0\t0\t0\t0\t0\t49\t238\t253\t253\t253\t253\t253\t253\t253\t253\t251\t93\t82\t82\t56\t39\t0\t0\t0\t0\t0\t\n",
      "0\t0\t0\t0\t0\t0\t0\t18\t219\t253\t253\t253\t253\t253\t198\t182\t247\t241\t0\t0\t0\t0\t0\t0\t0\t0\t0\t0\t\n",
      "0\t0\t0\t0\t0\t0\t0\t0\t80\t156\t107\t253\t253\t205\t11\t0\t43\t154\t0\t0\t0\t0\t0\t0\t0\t0\t0\t0\t\n",
      "0\t0\t0\t0\t0\t0\t0\t0\t0\t14\t1\t154\t253\t90\t0\t0\t0\t0\t0\t0\t0\t0\t0\t0\t0\t0\t0\t0\t\n",
      "0\t0\t0\t0\t0\t0\t0\t0\t0\t0\t0\t139\t253\t190\t2\t0\t0\t0\t0\t0\t0\t0\t0\t0\t0\t0\t0\t0\t\n",
      "0\t0\t0\t0\t0\t0\t0\t0\t0\t0\t0\t11\t190\t253\t70\t0\t0\t0\t0\t0\t0\t0\t0\t0\t0\t0\t0\t0\t\n",
      "0\t0\t0\t0\t0\t0\t0\t0\t0\t0\t0\t0\t35\t241\t225\t160\t108\t1\t0\t0\t0\t0\t0\t0\t0\t0\t0\t0\t\n",
      "0\t0\t0\t0\t0\t0\t0\t0\t0\t0\t0\t0\t0\t81\t240\t253\t253\t119\t25\t0\t0\t0\t0\t0\t0\t0\t0\t0\t\n",
      "0\t0\t0\t0\t0\t0\t0\t0\t0\t0\t0\t0\t0\t0\t45\t186\t253\t253\t150\t27\t0\t0\t0\t0\t0\t0\t0\t0\t\n",
      "0\t0\t0\t0\t0\t0\t0\t0\t0\t0\t0\t0\t0\t0\t0\t16\t93\t252\t253\t187\t0\t0\t0\t0\t0\t0\t0\t0\t\n",
      "0\t0\t0\t0\t0\t0\t0\t0\t0\t0\t0\t0\t0\t0\t0\t0\t0\t249\t253\t249\t64\t0\t0\t0\t0\t0\t0\t0\t\n",
      "0\t0\t0\t0\t0\t0\t0\t0\t0\t0\t0\t0\t0\t0\t46\t130\t183\t253\t253\t207\t2\t0\t0\t0\t0\t0\t0\t0\t\n",
      "0\t0\t0\t0\t0\t0\t0\t0\t0\t0\t0\t0\t39\t148\t229\t253\t253\t253\t250\t182\t0\t0\t0\t0\t0\t0\t0\t0\t\n",
      "0\t0\t0\t0\t0\t0\t0\t0\t0\t0\t24\t114\t221\t253\t253\t253\t253\t201\t78\t0\t0\t0\t0\t0\t0\t0\t0\t0\t\n",
      "0\t0\t0\t0\t0\t0\t0\t0\t23\t66\t213\t253\t253\t253\t253\t198\t81\t2\t0\t0\t0\t0\t0\t0\t0\t0\t0\t0\t\n",
      "0\t0\t0\t0\t0\t0\t18\t171\t219\t253\t253\t253\t253\t195\t80\t9\t0\t0\t0\t0\t0\t0\t0\t0\t0\t0\t0\t0\t\n",
      "0\t0\t0\t0\t55\t172\t226\t253\t253\t253\t253\t244\t133\t11\t0\t0\t0\t0\t0\t0\t0\t0\t0\t0\t0\t0\t0\t0\t\n",
      "0\t0\t0\t0\t136\t253\t253\t253\t212\t135\t132\t16\t0\t0\t0\t0\t0\t0\t0\t0\t0\t0\t0\t0\t0\t0\t0\t0\t\n",
      "0\t0\t0\t0\t0\t0\t0\t0\t0\t0\t0\t0\t0\t0\t0\t0\t0\t0\t0\t0\t0\t0\t0\t0\t0\t0\t0\t0\t\n",
      "0\t0\t0\t0\t0\t0\t0\t0\t0\t0\t0\t0\t0\t0\t0\t0\t0\t0\t0\t0\t0\t0\t0\t0\t0\t0\t0\t0\t\n",
      "0\t0\t0\t0\t0\t0\t0\t0\t0\t0\t0\t0\t0\t0\t0\t0\t0\t0\t0\t0\t0\t0\t0\t0\t0\t0\t0\t0\t\n"
     ]
    }
   ],
   "source": [
    "for x in X_train[0]:\n",
    "    for i in x:\n",
    "        sys.stdout.write('%d\\t' % i)\n",
    "    sys.stdout.write('\\n')"
   ]
  },
  {
   "cell_type": "code",
   "execution_count": 31,
   "metadata": {},
   "outputs": [
    {
     "data": {
      "text/plain": [
       "(784,)"
      ]
     },
     "execution_count": 31,
     "metadata": {},
     "output_type": "execute_result"
    }
   ],
   "source": [
    "X_train=X_train.reshape(X_train.shape[0],784)\n",
    "X_train[0].shape"
   ]
  },
  {
   "cell_type": "code",
   "execution_count": 32,
   "metadata": {},
   "outputs": [],
   "source": [
    "X_train=X_train.astype('float64')\n",
    "X_train=X_train/255"
   ]
  },
  {
   "cell_type": "code",
   "execution_count": 33,
   "metadata": {},
   "outputs": [],
   "source": [
    "X_test=X_test.reshape(X_test.shape[0],784).astype('float64')/255"
   ]
  },
  {
   "cell_type": "code",
   "execution_count": 34,
   "metadata": {},
   "outputs": [
    {
     "data": {
      "text/plain": [
       "array([0.        , 0.        , 0.        , 0.        , 0.        ,\n",
       "       0.        , 0.        , 0.        , 0.        , 0.        ,\n",
       "       0.        , 0.        , 0.        , 0.        , 0.        ,\n",
       "       0.        , 0.        , 0.        , 0.        , 0.        ,\n",
       "       0.        , 0.        , 0.        , 0.        , 0.        ,\n",
       "       0.        , 0.        , 0.        , 0.        , 0.        ,\n",
       "       0.        , 0.        , 0.        , 0.        , 0.        ,\n",
       "       0.        , 0.        , 0.        , 0.        , 0.        ,\n",
       "       0.        , 0.        , 0.        , 0.        , 0.        ,\n",
       "       0.        , 0.        , 0.        , 0.        , 0.        ,\n",
       "       0.        , 0.        , 0.        , 0.        , 0.        ,\n",
       "       0.        , 0.        , 0.        , 0.        , 0.        ,\n",
       "       0.        , 0.        , 0.        , 0.        , 0.        ,\n",
       "       0.        , 0.        , 0.        , 0.        , 0.        ,\n",
       "       0.        , 0.        , 0.        , 0.        , 0.        ,\n",
       "       0.        , 0.        , 0.        , 0.        , 0.        ,\n",
       "       0.        , 0.        , 0.        , 0.        , 0.        ,\n",
       "       0.        , 0.        , 0.        , 0.        , 0.        ,\n",
       "       0.        , 0.        , 0.        , 0.        , 0.        ,\n",
       "       0.        , 0.        , 0.        , 0.        , 0.        ,\n",
       "       0.        , 0.        , 0.        , 0.        , 0.        ,\n",
       "       0.        , 0.        , 0.        , 0.        , 0.        ,\n",
       "       0.        , 0.        , 0.        , 0.        , 0.        ,\n",
       "       0.        , 0.        , 0.        , 0.        , 0.        ,\n",
       "       0.        , 0.        , 0.        , 0.        , 0.        ,\n",
       "       0.        , 0.        , 0.        , 0.        , 0.        ,\n",
       "       0.        , 0.        , 0.        , 0.        , 0.        ,\n",
       "       0.        , 0.        , 0.        , 0.        , 0.        ,\n",
       "       0.        , 0.        , 0.        , 0.        , 0.        ,\n",
       "       0.        , 0.        , 0.        , 0.        , 0.        ,\n",
       "       0.        , 0.        , 0.01176471, 0.07058824, 0.07058824,\n",
       "       0.07058824, 0.49411765, 0.53333333, 0.68627451, 0.10196078,\n",
       "       0.65098039, 1.        , 0.96862745, 0.49803922, 0.        ,\n",
       "       0.        , 0.        , 0.        , 0.        , 0.        ,\n",
       "       0.        , 0.        , 0.        , 0.        , 0.        ,\n",
       "       0.        , 0.11764706, 0.14117647, 0.36862745, 0.60392157,\n",
       "       0.66666667, 0.99215686, 0.99215686, 0.99215686, 0.99215686,\n",
       "       0.99215686, 0.88235294, 0.6745098 , 0.99215686, 0.94901961,\n",
       "       0.76470588, 0.25098039, 0.        , 0.        , 0.        ,\n",
       "       0.        , 0.        , 0.        , 0.        , 0.        ,\n",
       "       0.        , 0.        , 0.        , 0.19215686, 0.93333333,\n",
       "       0.99215686, 0.99215686, 0.99215686, 0.99215686, 0.99215686,\n",
       "       0.99215686, 0.99215686, 0.99215686, 0.98431373, 0.36470588,\n",
       "       0.32156863, 0.32156863, 0.21960784, 0.15294118, 0.        ,\n",
       "       0.        , 0.        , 0.        , 0.        , 0.        ,\n",
       "       0.        , 0.        , 0.        , 0.        , 0.        ,\n",
       "       0.        , 0.07058824, 0.85882353, 0.99215686, 0.99215686,\n",
       "       0.99215686, 0.99215686, 0.99215686, 0.77647059, 0.71372549,\n",
       "       0.96862745, 0.94509804, 0.        , 0.        , 0.        ,\n",
       "       0.        , 0.        , 0.        , 0.        , 0.        ,\n",
       "       0.        , 0.        , 0.        , 0.        , 0.        ,\n",
       "       0.        , 0.        , 0.        , 0.        , 0.        ,\n",
       "       0.31372549, 0.61176471, 0.41960784, 0.99215686, 0.99215686,\n",
       "       0.80392157, 0.04313725, 0.        , 0.16862745, 0.60392157,\n",
       "       0.        , 0.        , 0.        , 0.        , 0.        ,\n",
       "       0.        , 0.        , 0.        , 0.        , 0.        ,\n",
       "       0.        , 0.        , 0.        , 0.        , 0.        ,\n",
       "       0.        , 0.        , 0.        , 0.        , 0.05490196,\n",
       "       0.00392157, 0.60392157, 0.99215686, 0.35294118, 0.        ,\n",
       "       0.        , 0.        , 0.        , 0.        , 0.        ,\n",
       "       0.        , 0.        , 0.        , 0.        , 0.        ,\n",
       "       0.        , 0.        , 0.        , 0.        , 0.        ,\n",
       "       0.        , 0.        , 0.        , 0.        , 0.        ,\n",
       "       0.        , 0.        , 0.        , 0.        , 0.54509804,\n",
       "       0.99215686, 0.74509804, 0.00784314, 0.        , 0.        ,\n",
       "       0.        , 0.        , 0.        , 0.        , 0.        ,\n",
       "       0.        , 0.        , 0.        , 0.        , 0.        ,\n",
       "       0.        , 0.        , 0.        , 0.        , 0.        ,\n",
       "       0.        , 0.        , 0.        , 0.        , 0.        ,\n",
       "       0.        , 0.        , 0.04313725, 0.74509804, 0.99215686,\n",
       "       0.2745098 , 0.        , 0.        , 0.        , 0.        ,\n",
       "       0.        , 0.        , 0.        , 0.        , 0.        ,\n",
       "       0.        , 0.        , 0.        , 0.        , 0.        ,\n",
       "       0.        , 0.        , 0.        , 0.        , 0.        ,\n",
       "       0.        , 0.        , 0.        , 0.        , 0.        ,\n",
       "       0.        , 0.1372549 , 0.94509804, 0.88235294, 0.62745098,\n",
       "       0.42352941, 0.00392157, 0.        , 0.        , 0.        ,\n",
       "       0.        , 0.        , 0.        , 0.        , 0.        ,\n",
       "       0.        , 0.        , 0.        , 0.        , 0.        ,\n",
       "       0.        , 0.        , 0.        , 0.        , 0.        ,\n",
       "       0.        , 0.        , 0.        , 0.        , 0.        ,\n",
       "       0.31764706, 0.94117647, 0.99215686, 0.99215686, 0.46666667,\n",
       "       0.09803922, 0.        , 0.        , 0.        , 0.        ,\n",
       "       0.        , 0.        , 0.        , 0.        , 0.        ,\n",
       "       0.        , 0.        , 0.        , 0.        , 0.        ,\n",
       "       0.        , 0.        , 0.        , 0.        , 0.        ,\n",
       "       0.        , 0.        , 0.        , 0.        , 0.17647059,\n",
       "       0.72941176, 0.99215686, 0.99215686, 0.58823529, 0.10588235,\n",
       "       0.        , 0.        , 0.        , 0.        , 0.        ,\n",
       "       0.        , 0.        , 0.        , 0.        , 0.        ,\n",
       "       0.        , 0.        , 0.        , 0.        , 0.        ,\n",
       "       0.        , 0.        , 0.        , 0.        , 0.        ,\n",
       "       0.        , 0.        , 0.        , 0.0627451 , 0.36470588,\n",
       "       0.98823529, 0.99215686, 0.73333333, 0.        , 0.        ,\n",
       "       0.        , 0.        , 0.        , 0.        , 0.        ,\n",
       "       0.        , 0.        , 0.        , 0.        , 0.        ,\n",
       "       0.        , 0.        , 0.        , 0.        , 0.        ,\n",
       "       0.        , 0.        , 0.        , 0.        , 0.        ,\n",
       "       0.        , 0.        , 0.        , 0.97647059, 0.99215686,\n",
       "       0.97647059, 0.25098039, 0.        , 0.        , 0.        ,\n",
       "       0.        , 0.        , 0.        , 0.        , 0.        ,\n",
       "       0.        , 0.        , 0.        , 0.        , 0.        ,\n",
       "       0.        , 0.        , 0.        , 0.        , 0.        ,\n",
       "       0.        , 0.        , 0.        , 0.18039216, 0.50980392,\n",
       "       0.71764706, 0.99215686, 0.99215686, 0.81176471, 0.00784314,\n",
       "       0.        , 0.        , 0.        , 0.        , 0.        ,\n",
       "       0.        , 0.        , 0.        , 0.        , 0.        ,\n",
       "       0.        , 0.        , 0.        , 0.        , 0.        ,\n",
       "       0.        , 0.        , 0.        , 0.        , 0.15294118,\n",
       "       0.58039216, 0.89803922, 0.99215686, 0.99215686, 0.99215686,\n",
       "       0.98039216, 0.71372549, 0.        , 0.        , 0.        ,\n",
       "       0.        , 0.        , 0.        , 0.        , 0.        ,\n",
       "       0.        , 0.        , 0.        , 0.        , 0.        ,\n",
       "       0.        , 0.        , 0.        , 0.        , 0.        ,\n",
       "       0.09411765, 0.44705882, 0.86666667, 0.99215686, 0.99215686,\n",
       "       0.99215686, 0.99215686, 0.78823529, 0.30588235, 0.        ,\n",
       "       0.        , 0.        , 0.        , 0.        , 0.        ,\n",
       "       0.        , 0.        , 0.        , 0.        , 0.        ,\n",
       "       0.        , 0.        , 0.        , 0.        , 0.        ,\n",
       "       0.        , 0.09019608, 0.25882353, 0.83529412, 0.99215686,\n",
       "       0.99215686, 0.99215686, 0.99215686, 0.77647059, 0.31764706,\n",
       "       0.00784314, 0.        , 0.        , 0.        , 0.        ,\n",
       "       0.        , 0.        , 0.        , 0.        , 0.        ,\n",
       "       0.        , 0.        , 0.        , 0.        , 0.        ,\n",
       "       0.        , 0.        , 0.07058824, 0.67058824, 0.85882353,\n",
       "       0.99215686, 0.99215686, 0.99215686, 0.99215686, 0.76470588,\n",
       "       0.31372549, 0.03529412, 0.        , 0.        , 0.        ,\n",
       "       0.        , 0.        , 0.        , 0.        , 0.        ,\n",
       "       0.        , 0.        , 0.        , 0.        , 0.        ,\n",
       "       0.        , 0.        , 0.        , 0.21568627, 0.6745098 ,\n",
       "       0.88627451, 0.99215686, 0.99215686, 0.99215686, 0.99215686,\n",
       "       0.95686275, 0.52156863, 0.04313725, 0.        , 0.        ,\n",
       "       0.        , 0.        , 0.        , 0.        , 0.        ,\n",
       "       0.        , 0.        , 0.        , 0.        , 0.        ,\n",
       "       0.        , 0.        , 0.        , 0.        , 0.        ,\n",
       "       0.        , 0.53333333, 0.99215686, 0.99215686, 0.99215686,\n",
       "       0.83137255, 0.52941176, 0.51764706, 0.0627451 , 0.        ,\n",
       "       0.        , 0.        , 0.        , 0.        , 0.        ,\n",
       "       0.        , 0.        , 0.        , 0.        , 0.        ,\n",
       "       0.        , 0.        , 0.        , 0.        , 0.        ,\n",
       "       0.        , 0.        , 0.        , 0.        , 0.        ,\n",
       "       0.        , 0.        , 0.        , 0.        , 0.        ,\n",
       "       0.        , 0.        , 0.        , 0.        , 0.        ,\n",
       "       0.        , 0.        , 0.        , 0.        , 0.        ,\n",
       "       0.        , 0.        , 0.        , 0.        , 0.        ,\n",
       "       0.        , 0.        , 0.        , 0.        , 0.        ,\n",
       "       0.        , 0.        , 0.        , 0.        , 0.        ,\n",
       "       0.        , 0.        , 0.        , 0.        , 0.        ,\n",
       "       0.        , 0.        , 0.        , 0.        , 0.        ,\n",
       "       0.        , 0.        , 0.        , 0.        , 0.        ,\n",
       "       0.        , 0.        , 0.        , 0.        , 0.        ,\n",
       "       0.        , 0.        , 0.        , 0.        , 0.        ,\n",
       "       0.        , 0.        , 0.        , 0.        , 0.        ,\n",
       "       0.        , 0.        , 0.        , 0.        , 0.        ,\n",
       "       0.        , 0.        , 0.        , 0.        , 0.        ,\n",
       "       0.        , 0.        , 0.        , 0.        , 0.        ,\n",
       "       0.        , 0.        , 0.        , 0.        ])"
      ]
     },
     "execution_count": 34,
     "metadata": {},
     "output_type": "execute_result"
    }
   ],
   "source": [
    "X_train[0]"
   ]
  },
  {
   "cell_type": "code",
   "execution_count": 35,
   "metadata": {},
   "outputs": [
    {
     "name": "stdout",
     "output_type": "stream",
     "text": [
      "class:5\n"
     ]
    }
   ],
   "source": [
    "print(\"class:%d\"%(y_train[0]))"
   ]
  },
  {
   "cell_type": "code",
   "execution_count": 36,
   "metadata": {},
   "outputs": [],
   "source": [
    "from tensorflow.keras.utils import to_categorical"
   ]
  },
  {
   "cell_type": "code",
   "execution_count": 37,
   "metadata": {},
   "outputs": [
    {
     "data": {
      "text/plain": [
       "array([0., 0., 0., 0., 0., 1., 0., 0., 0., 0.], dtype=float32)"
      ]
     },
     "execution_count": 37,
     "metadata": {},
     "output_type": "execute_result"
    }
   ],
   "source": [
    "y_train=tf.keras.utils.to_categorical(y_train,num_classes=10)\n",
    "y_test=tf.keras.utils.to_categorical(y_test,num_classes=10)"
   ]
  },
  {
   "cell_type": "markdown",
   "metadata": {},
   "source": [
    "* 레이블의 값은 5와 같이 이미지를 나타내는 카테고리형.\n",
    "* 딥러닝의 분류 문제는 원-핫 인코딩 방식을 적용함."
   ]
  },
  {
   "cell_type": "code",
   "execution_count": null,
   "metadata": {},
   "outputs": [],
   "source": [
    "y_train[0]"
   ]
  },
  {
   "cell_type": "markdown",
   "metadata": {},
   "source": [
    "## 2. 딥러닝 기본 프레임 만들기\n",
    "* 입력 값(input_shape)이 784개, 은닉층이 512개 그리고 출력이 10개인 모델.\n",
    "* 활성화 함수로 은닉층에서는 relu를, 출력층에서는 softmax를 사용.\n",
    "* 딥러닝 실행 환경을 위해 오차 함수로 CategoricalCrossentropy, 최적화 함수로 adam을 사용.\n",
    "* 모델의 실행에 앞서 모델의 성과를 저장하고 모델의 최적화 단계에서 학습을 자동 중단하게끔 설정."
   ]
  },
  {
   "cell_type": "code",
   "execution_count": 38,
   "metadata": {},
   "outputs": [],
   "source": [
    "from keras.models import Sequential\n",
    "from tensorflow.keras.layers import Dense\n",
    "model=Sequential()\n",
    "model.add(Dense(512,input_dim=784,activation='relu'))\n",
    "model.add(Dense(256,activation='relu'))#input_shape=(784,)\n",
    "model.add(Dense(10,activation='softmax'))\n",
    "model.compile(loss='categorical_crossentropy',optimizer='adam',metrics=['accuracy'])\n",
    "# optimizer 는 learning rate 적절히 조절하는 것"
   ]
  },
  {
   "cell_type": "markdown",
   "metadata": {},
   "source": [
    "## 3. 더 깊은 딥러닝\n",
    "* 하나의 은닉층을 둔 아주 단순한 모델이지만 98%의 정확도\n",
    "* 딥러닝은 이러한 기본 모델을 바탕으로, 프로젝트에 맞춰서 어떤 옵션을 더하고 어떤 층을 추가하느냐에 따라 성능이 좋아질 수 있음.\n",
    "* CNN(Convolutional Neural Networ)를 추가\n",
    "## 4. CNN\n",
    "* 컨볼루션 신경망은 입력된 이미지에서 다시 한 번 특징을 추출하기 위해 마스크(필터, 윈도 또는 커널)를 도입하는 기법.\n",
    "* 예를 입력된 이미지가 다음과 같은 값을 가지고 있다고 가정.\n",
    "    * $\\begin{bmatrix}1&0&1&0\\\\0&1&1&0\\\\0&0&1&1\\\\0&0&1&0\\end{bmatrix}$\n",
    "* 여기에 $2\\times2$ 마스크를 준비함\n",
    "    * 각 칸에는 가중치가 들어있음.\n",
    "    * $\\begin{bmatrix}\\times1&\\times0\\\\\\times0&\\times1\\end{bmatrix}$\n",
    "* 마스크를 이미지의 각 구간에 적용함.\n",
    "    * 적용된 구간에 원래 있던 값에 가중치의 값을 곱해서 더해줌.\n",
    "    * $(1\\times1)+(0\\times0)+(0\\times0)+(1\\times1)=2$\n",
    "* 마스크를 한 칸씩 옮겨 모두 적용.\n",
    "    * $\\begin{bmatrix}2&1&1\\\\0&2&2\\\\0&1&1\\end{bmatrix}$\n",
    "* 이렇게 새롭게 만들어진 층을 컨볼루션(합성곱)이라고 부름.\n",
    "* 컨볼루션을 만들면 입력 데이터로부터 더욱 정교한 특징을 추출할 수 있음.\n",
    "* 마스크를 여러 개 만들 경우 여러 개의 컨볼루션이 만들어짐.\n",
    "    * 예를 들어, $\\begin{bmatrix}\\times1&\\times1\\\\\\times0&\\times0\\end{bmatrix}\\rarr\\begin{bmatrix}1&1&1\\\\1&2&1\\\\0&1&2\\end{bmatrix}$\n",
    "### Keras의 CNN\n",
    "* 케라스에서 컨볼루션 층을 추가하는 함수는 Conv2D()\n",
    "```python\n",
    "model.add(Conv2D(32, kernel_size=(3, 3), input_shape=(28, 28, 1), activation='relu'))\n",
    "```\n",
    "* 첫번째 인자 : 마스크를 몇 개 적용할 지 정함. 예시에서는 32개의 마스크를 적용.\n",
    "* kernel_size : 마스크(커널)의 크기를 정함. kernel_size=(행, 열) 형식으로 정하며, 예시는 $3\\times3$ 크기의 마스크를 사용하게끔 정함.\n",
    "* input_shape : Dense 층과 마찬가지로 맨 처음 층에는 입력되는 값을 알려주어야 함. input_shape=(행,열, 색상 또는 흑백) 형식으로 정함. 만약 입력 이미지가 색상이면 3, 흑백이면 1.\n",
    "* activation : 활성화 함수를 정의\n",
    "```python\n",
    "model.add(Conv2D(64, (3, 3), activation='relu'))\n",
    "```\n",
    "* 위와 같이 마스크 64개를 적용한 새로운 컨볼루션 층을 추가할 수 있음.\n",
    "## 5. Max Pooling\n",
    "* 컨볼루션 층을 통해 이미지 특징을 도출하였으나 그 결과가 여전히 크고 복잡하면 이를 다시 한 번 축소해야 함.\n",
    "    * 이 과정을 풀링(pooling) 또는 서브 샘플링(sub sampling)이라고 함.\n",
    "* 풀링 기법 중 가장 많이 사용되는 기법이 맥스 풀링(max pooling).\n",
    "* 맥스 풀링은 정해진 구역 안에서 가장 큰 값만 다음 층으로 넘기고 나머지는 버림.\n",
    "* 예를 들어 다음과 같은 이미지가 있을 때,\n",
    "    * $\\begin{bmatrix}1&0&1&0\\\\0&4&2&0\\\\0&1&6&1\\\\0&0&1&0\\end{bmatrix}$\n",
    "* 맥스 풀링을 적용하여 $(2\\times2)$의 4개의 구간으로 나누어 가장 큰 값만을 추출.\n",
    "    * $\\begin{bmatrix}4&2\\\\1&6\\end{bmatrix}$\n",
    "### Keras의 MaxPooling\n",
    "* 맥스 풀링을 통해 불필요한 정보를 간추릴 수 있음.\n",
    "* 케라스에서는 MaxPooling2D()함수를 사용해서 다음과 같이 적용할 수 있음.\n",
    "```python\n",
    "model.add(MaxPooling2D(pool_size=2))\n",
    "```\n",
    "* 여기서 pool_size는 풀링 창의 크기를 정하는 것으로, 2로 정하면 전체 크기가 절반으로 줄어듦.\n",
    "### 드롭아웃(drop out)과 플래튼(flatten)\n",
    "#### 1. 드롭아웃\n",
    "* 노드가 많아지거나 층이 많아진다고 해서 학습이 무조건 잘 되는 것이 아님.\n",
    "    * 과적합 발생 가능.\n",
    "* 과적합을 피하는 간단하지만 효과가 큰 기법이 드롭아웃 기법.\n",
    "* 드롭아웃은 은닉층에 배치된 노드 중 일부를 임의로 꺼주는 것.\n",
    "* 랜덤하게 노드를 끔으로써 학습 데이터에 지나치게 치우쳐서 학습되는 과적합을 방지할 수 있음.\n",
    "* 케라스를 이용해 손쉽게 적용가능 / 25% 노드 끄는 코드\n",
    "```python\n",
    "model.add(Dropout(0.25))\n",
    "```\n",
    "#### 2. 플래튼\n",
    "* 위의 과정을 다시 Dense() 함수를 이용해 기본층에 연결하려고 할때, 컨볼루션 층이나 맥스 풀링은 주어진 이미지를 2차원 배열인 채로 다룸.\n",
    "* 이를 1차원으로 바꿔주는 함수가 Flatten() 함수.\n",
    "```python\n",
    "model.add(Flatten())\n",
    "```\n",
    "## 6. 컨볼루션 신경망 실행"
   ]
  },
  {
   "cell_type": "code",
   "execution_count": 39,
   "metadata": {},
   "outputs": [
    {
     "name": "stdout",
     "output_type": "stream",
     "text": [
      "\n",
      "Epoch 1: val_loss improved from inf to 0.11492, saving model to ./model\\01-0.114922.hdf5\n",
      "\n",
      "Epoch 2: val_loss improved from 0.11492 to 0.09249, saving model to ./model\\02-0.092492.hdf5\n",
      "\n",
      "Epoch 3: val_loss improved from 0.09249 to 0.07643, saving model to ./model\\03-0.076432.hdf5\n",
      "\n",
      "Epoch 4: val_loss did not improve from 0.07643\n",
      "\n",
      "Epoch 5: val_loss did not improve from 0.07643\n",
      "\n",
      "Epoch 6: val_loss did not improve from 0.07643\n",
      "\n",
      "Epoch 7: val_loss improved from 0.07643 to 0.07234, saving model to ./model\\07-0.072342.hdf5\n",
      "\n",
      "Epoch 8: val_loss did not improve from 0.07234\n",
      "\n",
      "Epoch 9: val_loss did not improve from 0.07234\n",
      "\n",
      "Epoch 10: val_loss did not improve from 0.07234\n",
      "\n",
      "Epoch 11: val_loss did not improve from 0.07234\n",
      "\n",
      "Epoch 12: val_loss did not improve from 0.07234\n",
      "\n",
      "Epoch 13: val_loss did not improve from 0.07234\n",
      "\n",
      "Epoch 14: val_loss improved from 0.07234 to 0.06945, saving model to ./model\\14-0.069452.hdf5\n",
      "\n",
      "Epoch 15: val_loss did not improve from 0.06945\n",
      "\n",
      "Epoch 16: val_loss did not improve from 0.06945\n",
      "\n",
      "Epoch 17: val_loss did not improve from 0.06945\n",
      "\n",
      "Epoch 18: val_loss did not improve from 0.06945\n",
      "\n",
      "Epoch 19: val_loss did not improve from 0.06945\n",
      "\n",
      "Epoch 20: val_loss did not improve from 0.06945\n",
      "\n",
      "Epoch 21: val_loss did not improve from 0.06945\n",
      "\n",
      "Epoch 22: val_loss did not improve from 0.06945\n",
      "\n",
      "Epoch 23: val_loss did not improve from 0.06945\n",
      "\n",
      "Epoch 24: val_loss did not improve from 0.06945\n",
      "313/313 [==============================] - 1s 3ms/step - loss: 0.0942 - accuracy: 0.9833\n",
      "\n",
      " Test Accuracy:0.9833\n"
     ]
    }
   ],
   "source": [
    "import os\n",
    "from keras.callbacks import ModelCheckpoint,EarlyStopping\n",
    "\n",
    "MODEL_DIR='./model/'\n",
    "if not os.path.exists(MODEL_DIR):\n",
    "    os.mkdir(MODEL_DIR)\n",
    "    \n",
    "modelpath=\"./model/{epoch:02d}-{val_loss:4f}.hdf5\"\n",
    "checkpointer=ModelCheckpoint(filepath=modelpath,monitor='val_loss',verbose=1,save_best_only=True)\n",
    "early_stopping_callback=EarlyStopping(monitor='val_loss',patience=10) #성능안나아지는걸 10번까지 참겠다 그리고 뱉겠다\n",
    "\n",
    "history=model.fit(X_train,y_train,validation_data=(X_test,y_test),epochs=30,batch_size=200,verbose=0,callbacks=[early_stopping_callback,checkpointer])\n",
    "print(\"\\n Test Accuracy:%.4f\"%(model.evaluate(X_test,y_test)[1]))"
   ]
  },
  {
   "cell_type": "markdown",
   "metadata": {},
   "source": [
    "* 14번째 에포크에서 베스트 모델을 만들었고 24번째 에포크에서 학습이 자동 중단됨.\n",
    "* 위와 같이 학습의 진행에 따른 학습셋과 테스트셋의 오차 변화를 관측할 수 있음."
   ]
  },
  {
   "cell_type": "code",
   "execution_count": 40,
   "metadata": {},
   "outputs": [
    {
     "data": {
      "image/png": "[encoded data removed]",
      "text/plain": [
       "<Figure size 432x288 with 1 Axes>"
      ]
     },
     "metadata": {
      "needs_background": "light"
     },
     "output_type": "display_data"
    }
   ],
   "source": [
    "import matplotlib.pyplot as plt\n",
    "\n",
    "y_vloss = history.history[\"val_loss\"]\n",
    "\n",
    "# 학습셋의 오차\n",
    "y_loss = history.history[\"loss\"]\n",
    "\n",
    "# 그래프로 표현\n",
    "x_len = np.arange(len(y_loss))\n",
    "plt.plot(x_len, y_vloss, marker=\".\", c=\"red\", label=\"Testset_loss\")\n",
    "plt.plot(x_len, y_loss, marker=\".\", c=\"blue\", label=\"Trainset_loss\")\n",
    "\n",
    "# 그래프에 그리드를 주고 레이블을 표시\n",
    "plt.legend()\n",
    "plt.grid()\n",
    "plt.xlabel(\"epoch\")\n",
    "plt.ylabel(\"loss\")\n",
    "plt.show()"
   ]
  },
  {
   "cell_type": "code",
   "execution_count": 41,
   "metadata": {},
   "outputs": [
    {
     "data": {
      "image/png": "[encoded data removed]",
      "text/plain": [
       "<Figure size 432x288 with 1 Axes>"
      ]
     },
     "metadata": {
      "needs_background": "light"
     },
     "output_type": "display_data"
    }
   ],
   "source": [
    "y_vloss=history.history['val_loss']\n",
    "y_loss=history.history['loss']\n",
    "\n",
    "x_len=np.arange(len(y_loss))\n",
    "plt.plot(x_len,y_vloss,marker='.',c='red',label='Testset_loss')\n",
    "plt.plot(x_len,y_loss,marker='.',c='blue',label='Trainset_loss')\n",
    "\n",
    "plt.legend(loc='upper right')\n",
    "plt.grid()\n",
    "plt.xlabel('epoch')\n",
    "plt.ylabel('loss')\n",
    "plt.show()"
   ]
  },
  {
   "cell_type": "code",
   "execution_count": 42,
   "metadata": {},
   "outputs": [],
   "source": [
    "from tensorflow.keras.datasets import mnist\n",
    "from tensorflow.keras.utils import to_categorical\n",
    "from keras.models import Sequential\n",
    "from keras.layers import Dense,Dropout,Flatten,Conv2D,MaxPooling2D\n",
    "from keras.callbacks import ModelCheckpoint,EarlyStopping\n",
    "\n",
    "import matplotlib.pyplot as plt\n",
    "import numpy as np\n",
    "import os\n",
    "import tensorflow as tf\n",
    "\n",
    "seed=0\n",
    "np.random.seed(seed)\n",
    "tf.random.set_seed(seed)"
   ]
  },
  {
   "cell_type": "code",
   "execution_count": 43,
   "metadata": {},
   "outputs": [],
   "source": [
    "(X_train,Y_train),(X_test,Y_test)=mnist.load_data()\n",
    "X_train=X_train.reshape(X_train.shape[0],28,28,1).astype('float32')/255\n",
    "X_test=X_test.reshape(X_test.shape[0],28,28,1).astype('float32')/255\n",
    "Y_train=to_categorical(Y_train)\n",
    "Y_test=to_categorical(Y_test)\n",
    "\n",
    "model=Sequential()\n",
    "model.add(Conv2D(32,kernel_size=(3,3),input_shape=(28,28,1),activation='relu'))\n",
    "model.add(Conv2D(64,(3,3),activation='relu'))\n",
    "model.add(MaxPooling2D(pool_size=2))\n",
    "model.add(Dropout(0.25))\n",
    "model.add(Flatten())\n",
    "model.add(Dense(128,activation='relu'))\n",
    "model.add(Dropout(0.5))\n",
    "model.add(Dense(10,activation='softmax'))"
   ]
  },
  {
   "cell_type": "code",
   "execution_count": 45,
   "metadata": {},
   "outputs": [
    {
     "name": "stdout",
     "output_type": "stream",
     "text": [
      "\n",
      "Epoch 1: val_loss improved from inf to 0.04521, saving model to ./model\\01-0.045210.hdf5\n",
      "\n",
      "Epoch 2: val_loss improved from 0.04521 to 0.03817, saving model to ./model\\02-0.038169.hdf5\n",
      "\n",
      "Epoch 3: val_loss improved from 0.03817 to 0.03304, saving model to ./model\\03-0.033040.hdf5\n",
      "\n",
      "Epoch 4: val_loss improved from 0.03304 to 0.02898, saving model to ./model\\04-0.028979.hdf5\n",
      "\n",
      "Epoch 5: val_loss improved from 0.02898 to 0.02766, saving model to ./model\\05-0.027662.hdf5\n",
      "\n",
      "Epoch 6: val_loss improved from 0.02766 to 0.02596, saving model to ./model\\06-0.025963.hdf5\n",
      "\n",
      "Epoch 7: val_loss improved from 0.02596 to 0.02481, saving model to ./model\\07-0.024810.hdf5\n",
      "\n",
      "Epoch 8: val_loss did not improve from 0.02481\n",
      "\n",
      "Epoch 9: val_loss did not improve from 0.02481\n",
      "\n",
      "Epoch 10: val_loss improved from 0.02481 to 0.02397, saving model to ./model\\10-0.023969.hdf5\n",
      "\n",
      "Epoch 11: val_loss did not improve from 0.02397\n",
      "\n",
      "Epoch 12: val_loss did not improve from 0.02397\n",
      "\n",
      "Epoch 13: val_loss did not improve from 0.02397\n",
      "\n",
      "Epoch 14: val_loss did not improve from 0.02397\n",
      "\n",
      "Epoch 15: val_loss did not improve from 0.02397\n",
      "\n",
      "Epoch 16: val_loss did not improve from 0.02397\n",
      "\n",
      "Epoch 17: val_loss did not improve from 0.02397\n",
      "\n",
      "Epoch 18: val_loss did not improve from 0.02397\n",
      "\n",
      "Epoch 19: val_loss did not improve from 0.02397\n",
      "\n",
      "Epoch 20: val_loss did not improve from 0.02397\n",
      "313/313 [==============================] - 3s 8ms/step - loss: 0.0304 - accuracy: 0.9929\n",
      "\n",
      " Test Accuracy:0.9929\n"
     ]
    }
   ],
   "source": [
    "model.compile(loss='categorical_crossentropy',optimizer='adam',metrics=['accuracy'])\n",
    "\n",
    "MODEL_DIR='./model/'\n",
    "if not os.path.exists(MODEL_DIR):\n",
    "    os.mkdir(MODEL_DIR)\n",
    "    \n",
    "modelpath=\"./model/{epoch:02d}-{val_loss:4f}.hdf5\"\n",
    "checkpointer=ModelCheckpoint(filepath=modelpath,monitor='val_loss',verbose=1,save_best_only=True)\n",
    "early_stopping_callback=EarlyStopping(monitor='val_loss',patience=10)\n",
    "\n",
    "history=model.fit(X_train,Y_train,validation_data=(X_test,Y_test),epochs=30,batch_size=200,verbose=0,callbacks=[early_stopping_callback,checkpointer])\n",
    "\n",
    "print(\"\\n Test Accuracy:%.4f\"%(model.evaluate(X_test,Y_test)[1]))"
   ]
  },
  {
   "cell_type": "code",
   "execution_count": 46,
   "metadata": {},
   "outputs": [
    {
     "data": {
      "image/png": "[encoded data removed]",
      "text/plain": [
       "<Figure size 432x288 with 1 Axes>"
      ]
     },
     "metadata": {
      "needs_background": "light"
     },
     "output_type": "display_data"
    }
   ],
   "source": [
    "y_vloss=history.history['val_loss']\n",
    "y_loss=history.history['loss']\n",
    "\n",
    "x_len=np.arange(len(y_loss))\n",
    "plt.plot(x_len,y_vloss,marker='.',c='red',label='Testset_loss')\n",
    "plt.plot(x_len,y_loss,marker='.',c='blue',label='Trainset_loss')\n",
    "\n",
    "plt.legend(loc='upper right')\n",
    "plt.grid()\n",
    "plt.xlabel('epoch')\n",
    "plt.ylabel('loss')\n",
    "plt.show()"
   ]
  },
  {
   "cell_type": "code",
   "execution_count": 47,
   "metadata": {},
   "outputs": [],
   "source": [
    "import pandas as pd\n",
    "train_data=pd.read_csv('./fashion-mnist_train.csv')\n",
    "test_data=pd.read_csv('./fashion-mnist_test.csv')"
   ]
  },
  {
   "cell_type": "code",
   "execution_count": 48,
   "metadata": {},
   "outputs": [
    {
     "data": {
      "text/html": [
       "<div>\n",
       "<style scoped>\n",
       "    .dataframe tbody tr th:only-of-type {\n",
       "        vertical-align: middle;\n",
       "    }\n",
       "\n",
       "    .dataframe tbody tr th {\n",
       "        vertical-align: top;\n",
       "    }\n",
       "\n",
       "    .dataframe thead th {\n",
       "        text-align: right;\n",
       "    }\n",
       "</style>\n",
       "<table border=\"1\" class=\"dataframe\">\n",
       "  <thead>\n",
       "    <tr style=\"text-align: right;\">\n",
       "      <th></th>\n",
       "      <th>label</th>\n",
       "      <th>pixel1</th>\n",
       "      <th>pixel2</th>\n",
       "      <th>pixel3</th>\n",
       "      <th>pixel4</th>\n",
       "      <th>pixel5</th>\n",
       "      <th>pixel6</th>\n",
       "      <th>pixel7</th>\n",
       "      <th>pixel8</th>\n",
       "      <th>pixel9</th>\n",
       "      <th>...</th>\n",
       "      <th>pixel775</th>\n",
       "      <th>pixel776</th>\n",
       "      <th>pixel777</th>\n",
       "      <th>pixel778</th>\n",
       "      <th>pixel779</th>\n",
       "      <th>pixel780</th>\n",
       "      <th>pixel781</th>\n",
       "      <th>pixel782</th>\n",
       "      <th>pixel783</th>\n",
       "      <th>pixel784</th>\n",
       "    </tr>\n",
       "  </thead>\n",
       "  <tbody>\n",
       "    <tr>\n",
       "      <th>0</th>\n",
       "      <td>2</td>\n",
       "      <td>0</td>\n",
       "      <td>0</td>\n",
       "      <td>0</td>\n",
       "      <td>0</td>\n",
       "      <td>0</td>\n",
       "      <td>0</td>\n",
       "      <td>0</td>\n",
       "      <td>0</td>\n",
       "      <td>0</td>\n",
       "      <td>...</td>\n",
       "      <td>0</td>\n",
       "      <td>0</td>\n",
       "      <td>0</td>\n",
       "      <td>0</td>\n",
       "      <td>0</td>\n",
       "      <td>0</td>\n",
       "      <td>0</td>\n",
       "      <td>0</td>\n",
       "      <td>0</td>\n",
       "      <td>0</td>\n",
       "    </tr>\n",
       "    <tr>\n",
       "      <th>1</th>\n",
       "      <td>9</td>\n",
       "      <td>0</td>\n",
       "      <td>0</td>\n",
       "      <td>0</td>\n",
       "      <td>0</td>\n",
       "      <td>0</td>\n",
       "      <td>0</td>\n",
       "      <td>0</td>\n",
       "      <td>0</td>\n",
       "      <td>0</td>\n",
       "      <td>...</td>\n",
       "      <td>0</td>\n",
       "      <td>0</td>\n",
       "      <td>0</td>\n",
       "      <td>0</td>\n",
       "      <td>0</td>\n",
       "      <td>0</td>\n",
       "      <td>0</td>\n",
       "      <td>0</td>\n",
       "      <td>0</td>\n",
       "      <td>0</td>\n",
       "    </tr>\n",
       "    <tr>\n",
       "      <th>2</th>\n",
       "      <td>6</td>\n",
       "      <td>0</td>\n",
       "      <td>0</td>\n",
       "      <td>0</td>\n",
       "      <td>0</td>\n",
       "      <td>0</td>\n",
       "      <td>0</td>\n",
       "      <td>0</td>\n",
       "      <td>5</td>\n",
       "      <td>0</td>\n",
       "      <td>...</td>\n",
       "      <td>0</td>\n",
       "      <td>0</td>\n",
       "      <td>0</td>\n",
       "      <td>30</td>\n",
       "      <td>43</td>\n",
       "      <td>0</td>\n",
       "      <td>0</td>\n",
       "      <td>0</td>\n",
       "      <td>0</td>\n",
       "      <td>0</td>\n",
       "    </tr>\n",
       "    <tr>\n",
       "      <th>3</th>\n",
       "      <td>0</td>\n",
       "      <td>0</td>\n",
       "      <td>0</td>\n",
       "      <td>0</td>\n",
       "      <td>1</td>\n",
       "      <td>2</td>\n",
       "      <td>0</td>\n",
       "      <td>0</td>\n",
       "      <td>0</td>\n",
       "      <td>0</td>\n",
       "      <td>...</td>\n",
       "      <td>3</td>\n",
       "      <td>0</td>\n",
       "      <td>0</td>\n",
       "      <td>0</td>\n",
       "      <td>0</td>\n",
       "      <td>1</td>\n",
       "      <td>0</td>\n",
       "      <td>0</td>\n",
       "      <td>0</td>\n",
       "      <td>0</td>\n",
       "    </tr>\n",
       "    <tr>\n",
       "      <th>4</th>\n",
       "      <td>3</td>\n",
       "      <td>0</td>\n",
       "      <td>0</td>\n",
       "      <td>0</td>\n",
       "      <td>0</td>\n",
       "      <td>0</td>\n",
       "      <td>0</td>\n",
       "      <td>0</td>\n",
       "      <td>0</td>\n",
       "      <td>0</td>\n",
       "      <td>...</td>\n",
       "      <td>0</td>\n",
       "      <td>0</td>\n",
       "      <td>0</td>\n",
       "      <td>0</td>\n",
       "      <td>0</td>\n",
       "      <td>0</td>\n",
       "      <td>0</td>\n",
       "      <td>0</td>\n",
       "      <td>0</td>\n",
       "      <td>0</td>\n",
       "    </tr>\n",
       "  </tbody>\n",
       "</table>\n",
       "<p>5 rows × 785 columns</p>\n",
       "</div>"
      ],
      "text/plain": [
       "   label  pixel1  pixel2  pixel3  pixel4  pixel5  pixel6  pixel7  pixel8  \\\n",
       "0      2       0       0       0       0       0       0       0       0   \n",
       "1      9       0       0       0       0       0       0       0       0   \n",
       "2      6       0       0       0       0       0       0       0       5   \n",
       "3      0       0       0       0       1       2       0       0       0   \n",
       "4      3       0       0       0       0       0       0       0       0   \n",
       "\n",
       "   pixel9  ...  pixel775  pixel776  pixel777  pixel778  pixel779  pixel780  \\\n",
       "0       0  ...         0         0         0         0         0         0   \n",
       "1       0  ...         0         0         0         0         0         0   \n",
       "2       0  ...         0         0         0        30        43         0   \n",
       "3       0  ...         3         0         0         0         0         1   \n",
       "4       0  ...         0         0         0         0         0         0   \n",
       "\n",
       "   pixel781  pixel782  pixel783  pixel784  \n",
       "0         0         0         0         0  \n",
       "1         0         0         0         0  \n",
       "2         0         0         0         0  \n",
       "3         0         0         0         0  \n",
       "4         0         0         0         0  \n",
       "\n",
       "[5 rows x 785 columns]"
      ]
     },
     "execution_count": 48,
     "metadata": {},
     "output_type": "execute_result"
    }
   ],
   "source": [
    "train_data.head()"
   ]
  },
  {
   "cell_type": "code",
   "execution_count": 49,
   "metadata": {},
   "outputs": [],
   "source": [
    "from sklearn.model_selection import train_test_split\n",
    "X=train_data.iloc[:,1:]\n",
    "y=train_data.iloc[:,0]\n",
    "X=np.array(X)\n",
    "y=np.array(y)\n",
    "X_train,X_val,y_train,y_val=train_test_split(X,y,test_size=0.3,random_state=12)\n",
    "\n",
    "# 0 T-shirt/top\n",
    "# 1 Trouser\n",
    "# 2 Pullover\n",
    "# 3 Dress\n",
    "# 4 Coat\n",
    "# 5 Sandal\n",
    "# 6 Shirt\n",
    "# 7 Sneaker\n",
    "# 8 Bag\n",
    "# 9 Ankle boot"
   ]
  },
  {
   "cell_type": "code",
   "execution_count": 50,
   "metadata": {},
   "outputs": [],
   "source": [
    "X_train=X_train.reshape(X_train.shape[0],28,28,1)\n",
    "X_test=X_test.reshape(X_test.shape[0],28,28,1)"
   ]
  },
  {
   "cell_type": "code",
   "execution_count": 51,
   "metadata": {},
   "outputs": [
    {
     "name": "stdout",
     "output_type": "stream",
     "text": [
      "0\t0\t0\t0\t2\t0\t0\t0\t0\t95\t152\t120\t122\t113\t118\t137\t166\t201\t87\t0\t0\t0\t0\t4\t1\t0\t0\t0\t\n",
      "0\t0\t0\t0\t0\t0\t27\t130\t217\t229\t231\t247\t193\t120\t141\t222\t240\t229\t224\t196\t108\t3\t0\t0\t0\t0\t0\t0\t\n",
      "0\t0\t3\t0\t11\t175\t223\t233\t225\t222\t219\t215\t222\t240\t238\t224\t222\t224\t223\t226\t232\t220\t154\t0\t0\t2\t0\t0\t\n",
      "0\t0\t0\t0\t168\t236\t210\t216\t223\t222\t223\t225\t222\t225\t223\t219\t224\t225\t225\t222\t217\t216\t241\t132\t0\t0\t0\t0\t\n",
      "0\t0\t0\t7\t220\t217\t217\t221\t222\t221\t224\t225\t230\t218\t241\t245\t227\t226\t221\t222\t225\t221\t221\t199\t0\t0\t0\t0\t\n",
      "0\t0\t0\t75\t231\t222\t222\t218\t222\t223\t222\t216\t233\t176\t12\t244\t245\t229\t227\t215\t217\t221\t220\t223\t29\t0\t0\t0\t\n",
      "0\t0\t0\t121\t233\t223\t230\t217\t219\t219\t219\t223\t225\t255\t74\t0\t195\t247\t237\t230\t213\t221\t220\t234\t83\t0\t0\t0\t\n",
      "0\t0\t0\t171\t232\t221\t230\t218\t218\t216\t223\t230\t239\t253\t129\t0\t51\t100\t244\t236\t225\t229\t218\t236\t120\t0\t0\t0\t\n",
      "0\t0\t0\t211\t227\t221\t235\t216\t220\t224\t234\t235\t190\t85\t98\t96\t90\t57\t29\t202\t236\t231\t219\t233\t161\t0\t0\t0\t\n",
      "0\t0\t0\t231\t222\t223\t238\t217\t218\t222\t255\t120\t61\t64\t129\t85\t13\t107\t44\t65\t236\t234\t219\t229\t197\t0\t0\t0\t\n",
      "0\t0\t0\t214\t221\t222\t244\t217\t216\t255\t150\t0\t118\t100\t106\t77\t35\t132\t82\t84\t225\t232\t219\t225\t220\t0\t0\t0\t\n",
      "0\t0\t19\t221\t223\t222\t245\t219\t229\t214\t36\t127\t73\t92\t117\t106\t11\t84\t142\t74\t194\t234\t220\t225\t199\t0\t0\t0\t\n",
      "0\t0\t35\t226\t220\t224\t237\t222\t248\t86\t125\t120\t81\t89\t127\t64\t45\t64\t94\t105\t191\t226\t220\t222\t209\t0\t0\t0\t\n",
      "0\t0\t55\t231\t219\t223\t234\t231\t142\t123\t156\t99\t55\t46\t90\t103\t45\t83\t108\t153\t155\t212\t226\t219\t219\t4\t0\t0\t\n",
      "0\t0\t76\t255\t221\t224\t239\t233\t108\t110\t147\t128\t105\t93\t87\t22\t43\t95\t124\t152\t84\t206\t230\t219\t226\t40\t0\t0\t\n",
      "0\t0\t96\t254\t219\t222\t238\t183\t225\t12\t3\t89\t68\t70\t40\t1\t7\t97\t112\t167\t78\t248\t225\t219\t227\t61\t0\t0\t\n",
      "0\t0\t120\t254\t220\t224\t249\t162\t218\t58\t7\t71\t62\t113\t173\t236\t220\t199\t66\t93\t0\t221\t229\t217\t229\t76\t0\t0\t\n",
      "0\t0\t128\t254\t221\t225\t220\t182\t184\t197\t133\t89\t183\t219\t228\t220\t218\t222\t96\t39\t25\t233\t230\t219\t226\t89\t0\t0\t\n",
      "0\t0\t137\t251\t219\t234\t169\t220\t190\t190\t223\t217\t229\t218\t216\t216\t217\t233\t140\t61\t143\t168\t237\t217\t227\t116\t0\t0\t\n",
      "0\t0\t147\t245\t218\t243\t151\t230\t236\t219\t228\t224\t217\t221\t221\t221\t224\t219\t232\t146\t23\t131\t241\t216\t228\t136\t0\t0\t\n",
      "0\t0\t163\t241\t220\t242\t142\t230\t228\t225\t223\t220\t223\t223\t222\t222\t222\t219\t227\t217\t0\t126\t243\t219\t225\t152\t0\t0\t\n",
      "0\t0\t169\t238\t219\t240\t147\t239\t229\t223\t222\t221\t221\t221\t221\t221\t222\t222\t218\t254\t18\t117\t255\t218\t224\t158\t0\t0\t\n",
      "0\t0\t177\t231\t216\t241\t131\t240\t223\t223\t222\t220\t221\t221\t221\t221\t221\t222\t220\t248\t146\t119\t255\t218\t223\t166\t0\t0\t\n",
      "0\t0\t180\t222\t216\t240\t107\t249\t223\t225\t225\t223\t223\t223\t223\t222\t222\t227\t217\t254\t101\t61\t255\t218\t223\t173\t0\t0\t\n",
      "0\t0\t156\t228\t218\t225\t79\t231\t219\t222\t222\t222\t223\t221\t220\t221\t222\t221\t221\t220\t254\t90\t249\t219\t223\t160\t0\t0\t\n",
      "0\t0\t74\t224\t229\t173\t83\t255\t237\t240\t240\t241\t242\t240\t238\t237\t237\t236\t236\t230\t254\t106\t181\t227\t225\t96\t0\t0\t\n",
      "0\t0\t76\t244\t243\t207\t9\t155\t134\t148\t150\t157\t163\t170\t175\t181\t185\t191\t171\t187\t218\t62\t183\t240\t239\t93\t0\t0\t\n",
      "0\t0\t29\t163\t173\t142\t0\t0\t0\t0\t0\t0\t0\t0\t0\t0\t0\t0\t0\t0\t0\t0\t135\t184\t182\t54\t0\t0\t\n"
     ]
    }
   ],
   "source": [
    "for x in X_train[0]:\n",
    "    for i in x:\n",
    "        sys.stdout.write('%d\\t' % i)\n",
    "    sys.stdout.write('\\n')"
   ]
  },
  {
   "cell_type": "code",
   "execution_count": 52,
   "metadata": {},
   "outputs": [
    {
     "data": {
      "image/png": "[encoded data removed]",
      "text/plain": [
       "<Figure size 432x288 with 1 Axes>"
      ]
     },
     "metadata": {
      "needs_background": "light"
     },
     "output_type": "display_data"
    }
   ],
   "source": [
    "plt.imshow(X_train[10].reshape(28,28),cmap='viridis')\n",
    "plt.show()"
   ]
  },
  {
   "cell_type": "code",
   "execution_count": 53,
   "metadata": {},
   "outputs": [],
   "source": [
    "#kernel 3X3 #conv(마스크32)->pooling->dropout(0.2)->conv(마스크64)->pooling->dropout(0.2)->conv(마스크128)->Dropout(0.2)->flatten -> Dense:128->Drop(0.2)->출력층(fitting)\n",
    "#model check ,earlystop\n",
    "#compile,fit\n",
    "#val_loss=(x_val)"
   ]
  },
  {
   "cell_type": "code",
   "execution_count": 54,
   "metadata": {},
   "outputs": [],
   "source": [
    "train_data=pd.read_csv('./fashion-mnist_train.csv')\n",
    "test_data=pd.read_csv('./fashion-mnist_test.csv')\n",
    "X_train=train_data.iloc[:,1:]\n",
    "Y_train=train_data.iloc[:,0]\n",
    "X_test=test_data.iloc[:,1:]\n",
    "Y_test=test_data.iloc[:,0]\n",
    "X_train=np.array(X_train)\n",
    "X_test=np.array(X_test)\n",
    "X_train=X_train.reshape(X_train.shape[0],28,28,1).astype('float32')/255\n",
    "X_test=X_test.reshape(X_test.shape[0],28,28,1).astype('float32')/255\n",
    "Y_train=to_categorical(Y_train)\n",
    "Y_test=to_categorical(Y_test)\n",
    "# from sklearn.model_selection import train_test_split\n",
    "\n",
    "model=Sequential()\n",
    "model.add(Conv2D(32,kernel_size=(3,3),input_shape=(28,28,1),activation='relu'))\n",
    "model.add(MaxPooling2D(pool_size=2))\n",
    "model.add(Dropout(0.2))\n",
    "model.add(Conv2D(64,(3,3),activation='relu'))\n",
    "model.add(MaxPooling2D(pool_size=2))\n",
    "model.add(Dropout(0.2))\n",
    "model.add(Conv2D(128,(3,3),activation='relu'))\n",
    "model.add(Dropout(0.2))\n",
    "model.add(Flatten())\n",
    "model.add(Dense(128,activation='relu'))\n",
    "model.add(Dropout(0.2))\n",
    "model.add(Dense(10,activation='softmax'))\n",
    "\n",
    "# model.add(MaxPooling2D(pool_size=2))\n",
    "# model.add(Dropout(0.2))\n",
    "\n",
    "# model.add(Dense(128,activation='relu'))\n",
    "# model.add(Dropout(0.5))\n",
    "# model.add(Dense(10,activation='softmax'))"
   ]
  },
  {
   "cell_type": "code",
   "execution_count": 55,
   "metadata": {},
   "outputs": [
    {
     "name": "stdout",
     "output_type": "stream",
     "text": [
      "\n",
      "Epoch 1: val_loss improved from inf to 0.42827, saving model to ./model\\01-0.428270.hdf5\n",
      "\n",
      "Epoch 2: val_loss improved from 0.42827 to 0.34054, saving model to ./model\\02-0.340540.hdf5\n",
      "\n",
      "Epoch 3: val_loss improved from 0.34054 to 0.30197, saving model to ./model\\03-0.301972.hdf5\n",
      "\n",
      "Epoch 4: val_loss improved from 0.30197 to 0.28273, saving model to ./model\\04-0.282730.hdf5\n",
      "\n",
      "Epoch 5: val_loss improved from 0.28273 to 0.27074, saving model to ./model\\05-0.270742.hdf5\n",
      "\n",
      "Epoch 6: val_loss improved from 0.27074 to 0.25120, saving model to ./model\\06-0.251203.hdf5\n",
      "\n",
      "Epoch 7: val_loss improved from 0.25120 to 0.23905, saving model to ./model\\07-0.239050.hdf5\n",
      "\n",
      "Epoch 8: val_loss did not improve from 0.23905\n",
      "\n",
      "Epoch 9: val_loss improved from 0.23905 to 0.22434, saving model to ./model\\09-0.224343.hdf5\n",
      "\n",
      "Epoch 10: val_loss improved from 0.22434 to 0.22311, saving model to ./model\\10-0.223106.hdf5\n",
      "\n",
      "Epoch 11: val_loss did not improve from 0.22311\n",
      "\n",
      "Epoch 12: val_loss improved from 0.22311 to 0.20790, saving model to ./model\\12-0.207900.hdf5\n",
      "\n",
      "Epoch 13: val_loss did not improve from 0.20790\n",
      "\n",
      "Epoch 14: val_loss did not improve from 0.20790\n",
      "\n",
      "Epoch 15: val_loss improved from 0.20790 to 0.20514, saving model to ./model\\15-0.205136.hdf5\n",
      "\n",
      "Epoch 16: val_loss did not improve from 0.20514\n",
      "\n",
      "Epoch 17: val_loss improved from 0.20514 to 0.20498, saving model to ./model\\17-0.204979.hdf5\n",
      "\n",
      "Epoch 18: val_loss did not improve from 0.20498\n",
      "\n",
      "Epoch 19: val_loss improved from 0.20498 to 0.20133, saving model to ./model\\19-0.201325.hdf5\n",
      "\n",
      "Epoch 20: val_loss did not improve from 0.20133\n",
      "\n",
      "Epoch 21: val_loss did not improve from 0.20133\n",
      "\n",
      "Epoch 22: val_loss improved from 0.20133 to 0.19697, saving model to ./model\\22-0.196967.hdf5\n",
      "\n",
      "Epoch 23: val_loss improved from 0.19697 to 0.19465, saving model to ./model\\23-0.194648.hdf5\n",
      "\n",
      "Epoch 24: val_loss did not improve from 0.19465\n",
      "\n",
      "Epoch 25: val_loss did not improve from 0.19465\n",
      "\n",
      "Epoch 26: val_loss did not improve from 0.19465\n",
      "\n",
      "Epoch 27: val_loss did not improve from 0.19465\n",
      "\n",
      "Epoch 28: val_loss did not improve from 0.19465\n",
      "\n",
      "Epoch 29: val_loss did not improve from 0.19465\n",
      "\n",
      "Epoch 30: val_loss improved from 0.19465 to 0.19151, saving model to ./model\\30-0.191515.hdf5\n",
      "313/313 [==============================] - 1s 4ms/step - loss: 0.1915 - accuracy: 0.9289\n",
      "\n",
      " Test Accuracy:0.9289\n"
     ]
    }
   ],
   "source": [
    "model.compile(loss='categorical_crossentropy',optimizer='adam',metrics=['accuracy'])\n",
    "\n",
    "MODEL_DIR='./model/'\n",
    "if not os.path.exists(MODEL_DIR):\n",
    "    os.mkdir(MODEL_DIR)\n",
    "    \n",
    "modelpath=\"./model/{epoch:02d}-{val_loss:4f}.hdf5\"\n",
    "checkpointer=ModelCheckpoint(filepath=modelpath,monitor='val_loss',verbose=1,save_best_only=True)\n",
    "early_stopping_callback=EarlyStopping(monitor='val_loss',patience=10)\n",
    "\n",
    "history=model.fit(X_train,Y_train,validation_data=(X_test,Y_test),epochs=30,batch_size=200,verbose=0,callbacks=[early_stopping_callback,checkpointer])\n",
    "\n",
    "print(\"\\n Test Accuracy:%.4f\"%(model.evaluate(X_test,Y_test)[1]))"
   ]
  },
  {
   "cell_type": "code",
   "execution_count": 56,
   "metadata": {},
   "outputs": [
    {
     "data": {
      "image/png": "[encoded data removed]",
      "text/plain": [
       "<Figure size 432x288 with 1 Axes>"
      ]
     },
     "metadata": {
      "needs_background": "light"
     },
     "output_type": "display_data"
    }
   ],
   "source": [
    "y_vloss=history.history['val_loss']\n",
    "y_loss=history.history['loss']\n",
    "\n",
    "x_len=np.arange(len(y_loss))\n",
    "plt.plot(x_len,y_vloss,marker='.',c='red',label='Testset_loss')\n",
    "plt.plot(x_len,y_loss,marker='.',c='blue',label='Trainset_loss')\n",
    "\n",
    "plt.legend(loc='upper right')\n",
    "plt.grid()\n",
    "plt.xlabel('epoch')\n",
    "plt.ylabel('loss')\n",
    "plt.show()"
   ]
  }
 ],
 "metadata": {
  "interpreter": {
   "hash": "73d70afa6ea69e9144526a6a5401599dec7b759b7060f809f68e57a7e0099458"
  },
  "kernelspec": {
   "display_name": "Python 3.10.4 64-bit",
   "language": "python",
   "name": "python3"
  },
  "language_info": {
   "codemirror_mode": {
    "name": "ipython",
    "version": 3
   },
   "file_extension": ".py",
   "mimetype": "text/x-python",
   "name": "python",
   "nbconvert_exporter": "python",
   "pygments_lexer": "ipython3",
   "version": "3.10.4"
  },
  "orig_nbformat": 4
 },
 "nbformat": 4,
 "nbformat_minor": 2
}
